{
    "cells": [
        {
            "cell_type": "markdown",
            "metadata": {},
            "source": "<center>\n    <img src=\"https://s3-api.us-geo.objectstorage.softlayer.net/cf-courses-data/CognitiveClass/Logos/organization_logo/organization_logo.png\" width=\"300\" alt=\"cognitiveclass.ai logo\"  />\n</center>\n\n# 1D Numpy in Python\n\nEstimated time needed: **30** minutes\n\n## Objectives\n\nAfter completing this lab you will be able to:\n\n-   Import and use `numpy` library\n-   Perform operations with `numpy`\n"
        },
        {
            "cell_type": "markdown",
            "metadata": {},
            "source": "<h2>Table of Contents</h2>\n<div class=\"alert alert-block alert-info\" style=\"margin-top: 20px\">\n    <ul>\n        <li><a href=\"pre\">Preparation</a></li>\n        <li>\n            <a href=\"numpy\">What is Numpy?</a>\n            <ul>\n                <li><a href=\"type\">Type</a></li>\n                <li><a href=\"val\">Assign Value</a></li>\n                <li><a href=\"slice\">Slicing</a></li>\n                <li><a href=\"list\">Assign Value with List</a></li>\n                <li><a href=\"other\">Other Attributes</a></li>\n            </ul>\n        </li>\n        <li>\n            <a href=\"op\">Numpy Array Operations</a>\n            <ul>\n                <li><a href=\"add\">Array Addition</a></li>\n                <li><a href=\"multi\">Array Multiplication</a></li>\n                <li><a href=\"prod\">Product of Two Numpy Arrays</a></li>\n                <li><a href=\"dot\">Dot Product</a></li>\n                <li><a href=\"cons\">Adding Constant to a Numpy Array</a></li>\n            </ul>\n        </li>\n        <li><a href=\"math\">Mathematical Functions</a></li>\n        <li><a href=\"lin\">Linspace</a></li>\n    </ul>\n\n</div>\n\n<hr>\n"
        },
        {
            "cell_type": "markdown",
            "metadata": {},
            "source": "<h2 id=\"pre\">Preparation</h2>\n"
        },
        {
            "cell_type": "code",
            "execution_count": 1,
            "metadata": {},
            "outputs": [],
            "source": "# Import the libraries\n\nimport time \nimport sys\nimport numpy as np \n\nimport matplotlib.pyplot as plt\n%matplotlib inline  "
        },
        {
            "cell_type": "code",
            "execution_count": 70,
            "metadata": {},
            "outputs": [],
            "source": "# Plotting functions\n\ndef Plotvec1(u, z, v):\n    \n    ax = plt.axes()\n    ax.arrow(0, 0, *u, head_width=0.05, color='r', head_length=0.1)\n    plt.text(*(u + 0.1), 'u')\n    \n    ax.arrow(0, 0, *v, head_width=0.05, color='b', head_length=0.1)\n    plt.text(*(v + 0.1), 'v')\n    ax.arrow(0, 0, *z, head_width=0.05, head_length=0.1)\n    plt.text(*(z + 0.1), 'z')\n    plt.ylim(-2, 2)\n    plt.xlim(-2, 2)\n\ndef Plotvec2(a,b):\n    ax = plt.axes()\n    ax.arrow(0, 0, *a, head_width=0.05, color ='r', head_length=0.1)\n    plt.text(*(a + 0.1), 'a')\n    ax.arrow(0, 0, *b, head_width=0.05, color ='b', head_length=0.1)\n    plt.text(*(b + 0.1), 'b')\n    plt.ylim(-2, 2)\n    plt.xlim(-2, 2)"
        },
        {
            "cell_type": "markdown",
            "metadata": {},
            "source": "Create a Python List as follows:\n"
        },
        {
            "cell_type": "code",
            "execution_count": 3,
            "metadata": {},
            "outputs": [],
            "source": "# Create a python list\n\na = [\"0\", 1, \"two\", \"3\", 4]"
        },
        {
            "cell_type": "markdown",
            "metadata": {},
            "source": "We can access the data via an index:\n"
        },
        {
            "cell_type": "markdown",
            "metadata": {},
            "source": "<img src=\"https://s3-api.us-geo.objectstorage.softlayer.net/cf-courses-data/CognitiveClass/PY0101EN/Chapter%205/Images/NumOneList.png\" width=\"660\" />\n"
        },
        {
            "cell_type": "markdown",
            "metadata": {},
            "source": "We can access each element using a square bracket as follows: \n"
        },
        {
            "cell_type": "code",
            "execution_count": 4,
            "metadata": {},
            "outputs": [
                {
                    "name": "stdout",
                    "output_type": "stream",
                    "text": "a[0]: 0\na[1]: 1\na[2]: two\na[3]: 3\na[4]: 4\n"
                }
            ],
            "source": "# Print each element\n\nprint(\"a[0]:\", a[0])\nprint(\"a[1]:\", a[1])\nprint(\"a[2]:\", a[2])\nprint(\"a[3]:\", a[3])\nprint(\"a[4]:\", a[4])"
        },
        {
            "cell_type": "markdown",
            "metadata": {},
            "source": "<hr>\n"
        },
        {
            "cell_type": "markdown",
            "metadata": {},
            "source": "<h2 id=\"numpy\">What is Numpy?</h2>\n"
        },
        {
            "cell_type": "markdown",
            "metadata": {},
            "source": "A numpy array is similar to a list. It's usually fixed in size and each element is of the same type. We can cast a list to a numpy array by first importing numpy: \n"
        },
        {
            "cell_type": "code",
            "execution_count": 5,
            "metadata": {},
            "outputs": [],
            "source": "# import numpy library\n\nimport numpy as np "
        },
        {
            "cell_type": "markdown",
            "metadata": {},
            "source": " We then cast the list as follows:\n"
        },
        {
            "cell_type": "code",
            "execution_count": 6,
            "metadata": {},
            "outputs": [
                {
                    "data": {
                        "text/plain": "array([0, 1, 2, 3, 4])"
                    },
                    "execution_count": 6,
                    "metadata": {},
                    "output_type": "execute_result"
                }
            ],
            "source": "# Create a numpy array\n\na = np.array([0, 1, 2, 3, 4])\na"
        },
        {
            "cell_type": "markdown",
            "metadata": {},
            "source": "Each element is of the same type, in this case integers: \n"
        },
        {
            "cell_type": "markdown",
            "metadata": {},
            "source": "<img src=\"https://s3-api.us-geo.objectstorage.softlayer.net/cf-courses-data/CognitiveClass/PY0101EN/Chapter%205/Images/NumOneNp.png\" width=\"500\" />\n"
        },
        {
            "cell_type": "markdown",
            "metadata": {},
            "source": " As with lists, we can access each element via a square bracket:\n"
        },
        {
            "cell_type": "code",
            "execution_count": 7,
            "metadata": {},
            "outputs": [
                {
                    "name": "stdout",
                    "output_type": "stream",
                    "text": "a[0]: 0\na[1]: 1\na[2]: 2\na[3]: 3\na[4]: 4\n"
                }
            ],
            "source": "# Print each element\n\nprint(\"a[0]:\", a[0])\nprint(\"a[1]:\", a[1])\nprint(\"a[2]:\", a[2])\nprint(\"a[3]:\", a[3])\nprint(\"a[4]:\", a[4])"
        },
        {
            "cell_type": "markdown",
            "metadata": {},
            "source": "<h3 id=\"type\">Type</h3>\n"
        },
        {
            "cell_type": "markdown",
            "metadata": {},
            "source": "If we check the type of the array we get <b>numpy.ndarray</b>:\n"
        },
        {
            "cell_type": "code",
            "execution_count": 8,
            "metadata": {},
            "outputs": [
                {
                    "data": {
                        "text/plain": "numpy.ndarray"
                    },
                    "execution_count": 8,
                    "metadata": {},
                    "output_type": "execute_result"
                }
            ],
            "source": "# Check the type of the array\n\ntype(a)"
        },
        {
            "cell_type": "markdown",
            "metadata": {},
            "source": "As numpy arrays contain data of the same type, we can use the attribute \"dtype\" to obtain the Data-type of the array\u2019s elements. In this case a 64-bit integer: \n"
        },
        {
            "cell_type": "code",
            "execution_count": 9,
            "metadata": {},
            "outputs": [
                {
                    "data": {
                        "text/plain": "dtype('int64')"
                    },
                    "execution_count": 9,
                    "metadata": {},
                    "output_type": "execute_result"
                }
            ],
            "source": "# Check the type of the values stored in numpy array\n\na.dtype"
        },
        {
            "cell_type": "markdown",
            "metadata": {},
            "source": "We can create a numpy array with real numbers:\n"
        },
        {
            "cell_type": "code",
            "execution_count": 10,
            "metadata": {},
            "outputs": [],
            "source": "# Create a numpy array\n\nb = np.array([3.1, 11.02, 6.2, 213.2, 5.2])"
        },
        {
            "cell_type": "markdown",
            "metadata": {},
            "source": "When we check the type of the array we get <b>numpy.ndarray</b>:\n"
        },
        {
            "cell_type": "code",
            "execution_count": 11,
            "metadata": {},
            "outputs": [
                {
                    "data": {
                        "text/plain": "numpy.ndarray"
                    },
                    "execution_count": 11,
                    "metadata": {},
                    "output_type": "execute_result"
                }
            ],
            "source": "# Check the type of array\n\ntype(b)"
        },
        {
            "cell_type": "markdown",
            "metadata": {},
            "source": "If we examine the attribute <code>dtype</code> we see float 64, as the elements are not integers: \n"
        },
        {
            "cell_type": "code",
            "execution_count": 12,
            "metadata": {},
            "outputs": [
                {
                    "data": {
                        "text/plain": "dtype('float64')"
                    },
                    "execution_count": 12,
                    "metadata": {},
                    "output_type": "execute_result"
                }
            ],
            "source": "# Check the value type\n\nb.dtype"
        },
        {
            "cell_type": "markdown",
            "metadata": {},
            "source": "<h3 id=\"val\">Assign value</h3>\n"
        },
        {
            "cell_type": "markdown",
            "metadata": {},
            "source": "We can change the value of the array, consider the array <code>c</code>:\n"
        },
        {
            "cell_type": "code",
            "execution_count": 32,
            "metadata": {},
            "outputs": [
                {
                    "data": {
                        "text/plain": "array([20,  1,  2,  3,  4])"
                    },
                    "execution_count": 32,
                    "metadata": {},
                    "output_type": "execute_result"
                }
            ],
            "source": "# Create numpy array\n\nc = np.array([20, 1, 2, 3, 4])\nc"
        },
        {
            "cell_type": "markdown",
            "metadata": {},
            "source": "We can change the first element of the array to 100 as follows:\n"
        },
        {
            "cell_type": "code",
            "execution_count": 14,
            "metadata": {},
            "outputs": [
                {
                    "data": {
                        "text/plain": "array([100,   1,   2,   3,   4])"
                    },
                    "execution_count": 14,
                    "metadata": {},
                    "output_type": "execute_result"
                }
            ],
            "source": "# Assign the first element to 100\n\nc[0] = 100\nc"
        },
        {
            "cell_type": "markdown",
            "metadata": {},
            "source": "We can change the 5th element of the array to 0 as follows:\n"
        },
        {
            "cell_type": "code",
            "execution_count": 15,
            "metadata": {},
            "outputs": [
                {
                    "data": {
                        "text/plain": "array([100,   1,   2,   3,   0])"
                    },
                    "execution_count": 15,
                    "metadata": {},
                    "output_type": "execute_result"
                }
            ],
            "source": "# Assign the 5th element to 0\n\nc[4] = 0\nc"
        },
        {
            "cell_type": "markdown",
            "metadata": {},
            "source": "<h3 id=\"slice\">Slicing</h3>\n"
        },
        {
            "cell_type": "markdown",
            "metadata": {},
            "source": "Like lists, we can slice the numpy array, and we can select the elements from 1 to 3 and assign it to a new numpy array <code>d</code> as follows:\n"
        },
        {
            "cell_type": "code",
            "execution_count": 33,
            "metadata": {},
            "outputs": [
                {
                    "data": {
                        "text/plain": "array([1, 2, 3])"
                    },
                    "execution_count": 33,
                    "metadata": {},
                    "output_type": "execute_result"
                }
            ],
            "source": "# Slicing the numpy array\n\nd = c[1:4]\nd"
        },
        {
            "cell_type": "markdown",
            "metadata": {},
            "source": "We can assign the corresponding indexes to  new values as follows: \n"
        },
        {
            "cell_type": "code",
            "execution_count": 34,
            "metadata": {},
            "outputs": [
                {
                    "data": {
                        "text/plain": "array([ 20,   1,   2, 300, 400])"
                    },
                    "execution_count": 34,
                    "metadata": {},
                    "output_type": "execute_result"
                }
            ],
            "source": "# Set the fourth element and fifth element to 300 and 400\n\nc[3:5] = 300, 400\nc"
        },
        {
            "cell_type": "markdown",
            "metadata": {},
            "source": "<h3 id=\"list\">Assign Value with List</h3>\n"
        },
        {
            "cell_type": "markdown",
            "metadata": {},
            "source": "Similarly, we can use a list to select a specific index.\nThe list ' select ' contains several values:\n"
        },
        {
            "cell_type": "code",
            "execution_count": 36,
            "metadata": {},
            "outputs": [],
            "source": "# Create the index list\n\nselect = [0, 2, 3]"
        },
        {
            "cell_type": "markdown",
            "metadata": {},
            "source": "We can use the list as an argument in the brackets. The output is the elements corresponding to the particular index:\n"
        },
        {
            "cell_type": "code",
            "execution_count": 38,
            "metadata": {},
            "outputs": [
                {
                    "data": {
                        "text/plain": "array([ 20,   2, 300])"
                    },
                    "execution_count": 38,
                    "metadata": {},
                    "output_type": "execute_result"
                }
            ],
            "source": "# Use List to select elements\n\nd = c[select]\nd"
        },
        {
            "cell_type": "markdown",
            "metadata": {},
            "source": "We can assign the specified elements to a new value. For example, we can assign the values to 100 000 as follows:\n"
        },
        {
            "cell_type": "code",
            "execution_count": 39,
            "metadata": {},
            "outputs": [
                {
                    "data": {
                        "text/plain": "array([100000,      1, 100000, 100000,    400])"
                    },
                    "execution_count": 39,
                    "metadata": {},
                    "output_type": "execute_result"
                }
            ],
            "source": "# Assign the specified elements to new value\n\nc[select] = 100000\nc"
        },
        {
            "cell_type": "markdown",
            "metadata": {},
            "source": "<h3 id=\"other\">Other Attributes</h3>\n"
        },
        {
            "cell_type": "markdown",
            "metadata": {},
            "source": "Let's review some basic array attributes using the array <code>a</code>:\n"
        },
        {
            "cell_type": "code",
            "execution_count": 40,
            "metadata": {},
            "outputs": [
                {
                    "data": {
                        "text/plain": "array([0, 1, 2, 3, 4])"
                    },
                    "execution_count": 40,
                    "metadata": {},
                    "output_type": "execute_result"
                }
            ],
            "source": "# Create a numpy array\n\na = np.array([0, 1, 2, 3, 4])\na"
        },
        {
            "cell_type": "markdown",
            "metadata": {},
            "source": "The attribute <code>size</code> is the number of elements in the array:\n"
        },
        {
            "cell_type": "code",
            "execution_count": 41,
            "metadata": {},
            "outputs": [
                {
                    "data": {
                        "text/plain": "5"
                    },
                    "execution_count": 41,
                    "metadata": {},
                    "output_type": "execute_result"
                }
            ],
            "source": "# Get the size of numpy array\n\na.size"
        },
        {
            "cell_type": "markdown",
            "metadata": {},
            "source": "The next two attributes will make more sense when we get to higher dimensions but let's review them. The attribute <code>ndim</code> represents the number of array dimensions or the rank of the array, in this case, one:\n"
        },
        {
            "cell_type": "code",
            "execution_count": 42,
            "metadata": {},
            "outputs": [
                {
                    "data": {
                        "text/plain": "1"
                    },
                    "execution_count": 42,
                    "metadata": {},
                    "output_type": "execute_result"
                }
            ],
            "source": "# Get the number of dimensions of numpy array\n\na.ndim"
        },
        {
            "cell_type": "markdown",
            "metadata": {},
            "source": "The attribute <code>shape</code> is a tuple of integers indicating the size of the array in each dimension:\n"
        },
        {
            "cell_type": "code",
            "execution_count": 44,
            "metadata": {},
            "outputs": [
                {
                    "data": {
                        "text/plain": "(5,)"
                    },
                    "execution_count": 44,
                    "metadata": {},
                    "output_type": "execute_result"
                }
            ],
            "source": "# Get the shape/size of numpy array\n\na.shape"
        },
        {
            "cell_type": "code",
            "execution_count": 46,
            "metadata": {},
            "outputs": [],
            "source": "# Create a numpy array\n\na = np.array([1, -1, 1, -1])"
        },
        {
            "cell_type": "code",
            "execution_count": 47,
            "metadata": {},
            "outputs": [
                {
                    "data": {
                        "text/plain": "0.0"
                    },
                    "execution_count": 47,
                    "metadata": {},
                    "output_type": "execute_result"
                }
            ],
            "source": "# Get the mean of numpy array\n\nmean = a.mean()\nmean"
        },
        {
            "cell_type": "code",
            "execution_count": 48,
            "metadata": {},
            "outputs": [
                {
                    "data": {
                        "text/plain": "1.0"
                    },
                    "execution_count": 48,
                    "metadata": {},
                    "output_type": "execute_result"
                }
            ],
            "source": "# Get the standard deviation of numpy array\n\nstandard_deviation=a.std()\nstandard_deviation"
        },
        {
            "cell_type": "code",
            "execution_count": 49,
            "metadata": {},
            "outputs": [
                {
                    "data": {
                        "text/plain": "array([-1,  2,  3,  4,  5])"
                    },
                    "execution_count": 49,
                    "metadata": {},
                    "output_type": "execute_result"
                }
            ],
            "source": "# Create a numpy array\n\nb = np.array([-1, 2, 3, 4, 5])\nb"
        },
        {
            "cell_type": "code",
            "execution_count": 50,
            "metadata": {},
            "outputs": [
                {
                    "data": {
                        "text/plain": "5"
                    },
                    "execution_count": 50,
                    "metadata": {},
                    "output_type": "execute_result"
                }
            ],
            "source": "# Get the biggest value in the numpy array\n\nmax_b = b.max()\nmax_b"
        },
        {
            "cell_type": "code",
            "execution_count": 51,
            "metadata": {},
            "outputs": [
                {
                    "data": {
                        "text/plain": "-1"
                    },
                    "execution_count": 51,
                    "metadata": {},
                    "output_type": "execute_result"
                }
            ],
            "source": "# Get the smallest value in the numpy array\n\nmin_b = b.min()\nmin_b"
        },
        {
            "cell_type": "markdown",
            "metadata": {},
            "source": "<hr>\n"
        },
        {
            "cell_type": "markdown",
            "metadata": {},
            "source": "<h2 id=\"op\">Numpy Array Operations</h2>\n"
        },
        {
            "cell_type": "markdown",
            "metadata": {},
            "source": "<h3 id=\"add\">Array Addition</h3>\n"
        },
        {
            "cell_type": "markdown",
            "metadata": {},
            "source": "Consider the numpy array <code>u</code>:\n"
        },
        {
            "cell_type": "code",
            "execution_count": 52,
            "metadata": {},
            "outputs": [
                {
                    "data": {
                        "text/plain": "array([1, 0])"
                    },
                    "execution_count": 52,
                    "metadata": {},
                    "output_type": "execute_result"
                }
            ],
            "source": "u = np.array([1, 0])\nu"
        },
        {
            "cell_type": "markdown",
            "metadata": {},
            "source": "Consider the numpy array <code>v</code>:\n"
        },
        {
            "cell_type": "code",
            "execution_count": 53,
            "metadata": {},
            "outputs": [
                {
                    "data": {
                        "text/plain": "array([0, 1])"
                    },
                    "execution_count": 53,
                    "metadata": {},
                    "output_type": "execute_result"
                }
            ],
            "source": "v = np.array([0, 1])\nv"
        },
        {
            "cell_type": "markdown",
            "metadata": {},
            "source": "We can add the two arrays and assign it to z:\n"
        },
        {
            "cell_type": "code",
            "execution_count": 54,
            "metadata": {},
            "outputs": [
                {
                    "data": {
                        "text/plain": "array([1, 1])"
                    },
                    "execution_count": 54,
                    "metadata": {},
                    "output_type": "execute_result"
                }
            ],
            "source": "# Numpy Array Addition\n\nz = u + v\nz"
        },
        {
            "cell_type": "markdown",
            "metadata": {},
            "source": " The operation is equivalent to vector addition:\n"
        },
        {
            "cell_type": "code",
            "execution_count": 55,
            "metadata": {},
            "outputs": [
                {
                    "data": {
                        "image/png": "[encoded data removed]",
                        "text/plain": "<Figure size 432x288 with 1 Axes>"
                    },
                    "metadata": {
                        "needs_background": "light"
                    },
                    "output_type": "display_data"
                }
            ],
            "source": "# Plot numpy arrays\n\nPlotvec1(u, z, v)"
        },
        {
            "cell_type": "markdown",
            "metadata": {},
            "source": "<h3 id=\"multi\">Array Multiplication</h3>\n"
        },
        {
            "cell_type": "markdown",
            "metadata": {},
            "source": "Consider the vector numpy array <code>y</code>:\n"
        },
        {
            "cell_type": "code",
            "execution_count": 56,
            "metadata": {},
            "outputs": [
                {
                    "data": {
                        "text/plain": "array([1, 2])"
                    },
                    "execution_count": 56,
                    "metadata": {},
                    "output_type": "execute_result"
                }
            ],
            "source": "# Create a numpy array\n\ny = np.array([1, 2])\ny"
        },
        {
            "cell_type": "markdown",
            "metadata": {},
            "source": "We can multiply every element in the array by 2:\n"
        },
        {
            "cell_type": "code",
            "execution_count": 57,
            "metadata": {},
            "outputs": [
                {
                    "data": {
                        "text/plain": "array([2, 4])"
                    },
                    "execution_count": 57,
                    "metadata": {},
                    "output_type": "execute_result"
                }
            ],
            "source": "# Numpy Array Multiplication\n\nz = 2 * y\nz"
        },
        {
            "cell_type": "markdown",
            "metadata": {},
            "source": " This is equivalent to multiplying a vector by a scaler: \n"
        },
        {
            "cell_type": "markdown",
            "metadata": {},
            "source": "<h3 id=\"prod\">Product of Two Numpy Arrays</h3>\n"
        },
        {
            "cell_type": "markdown",
            "metadata": {},
            "source": "Consider the following array <code>u</code>:\n"
        },
        {
            "cell_type": "code",
            "execution_count": 58,
            "metadata": {},
            "outputs": [
                {
                    "data": {
                        "text/plain": "array([1, 2])"
                    },
                    "execution_count": 58,
                    "metadata": {},
                    "output_type": "execute_result"
                }
            ],
            "source": "# Create a numpy array\n\nu = np.array([1, 2])\nu"
        },
        {
            "cell_type": "markdown",
            "metadata": {},
            "source": "Consider the following array <code>v</code>:\n"
        },
        {
            "cell_type": "code",
            "execution_count": 59,
            "metadata": {},
            "outputs": [
                {
                    "data": {
                        "text/plain": "array([3, 2])"
                    },
                    "execution_count": 59,
                    "metadata": {},
                    "output_type": "execute_result"
                }
            ],
            "source": "# Create a numpy array\n\nv = np.array([3, 2])\nv"
        },
        {
            "cell_type": "markdown",
            "metadata": {},
            "source": " The product of the two numpy arrays <code>u</code> and <code>v</code> is given by:\n"
        },
        {
            "cell_type": "code",
            "execution_count": 61,
            "metadata": {},
            "outputs": [
                {
                    "data": {
                        "text/plain": "array([3, 4])"
                    },
                    "execution_count": 61,
                    "metadata": {},
                    "output_type": "execute_result"
                }
            ],
            "source": "# Calculate the production of two numpy arrays\n\nz = u * v\nz"
        },
        {
            "cell_type": "markdown",
            "metadata": {},
            "source": "<h3 id=\"dot\">Dot Product</h3>\n"
        },
        {
            "cell_type": "markdown",
            "metadata": {},
            "source": "The dot product of the two numpy arrays <code>u</code> and <code>v</code> is given by:\n"
        },
        {
            "cell_type": "code",
            "execution_count": 62,
            "metadata": {},
            "outputs": [
                {
                    "data": {
                        "text/plain": "7"
                    },
                    "execution_count": 62,
                    "metadata": {},
                    "output_type": "execute_result"
                }
            ],
            "source": "# Calculate the dot product\n\nnp.dot(u, v)"
        },
        {
            "cell_type": "markdown",
            "metadata": {},
            "source": "<h3 id=\"cons\">Adding Constant to a Numpy Array</h3>\n"
        },
        {
            "cell_type": "markdown",
            "metadata": {},
            "source": "Consider the following array: \n"
        },
        {
            "cell_type": "code",
            "execution_count": 63,
            "metadata": {},
            "outputs": [
                {
                    "data": {
                        "text/plain": "array([ 1,  2,  3, -1])"
                    },
                    "execution_count": 63,
                    "metadata": {},
                    "output_type": "execute_result"
                }
            ],
            "source": "# Create a constant to numpy array\n\nu = np.array([1, 2, 3, -1]) \nu"
        },
        {
            "cell_type": "markdown",
            "metadata": {},
            "source": "Adding the constant 1 to each element in the array:\n"
        },
        {
            "cell_type": "code",
            "execution_count": 64,
            "metadata": {},
            "outputs": [
                {
                    "data": {
                        "text/plain": "array([2, 3, 4, 0])"
                    },
                    "execution_count": 64,
                    "metadata": {},
                    "output_type": "execute_result"
                }
            ],
            "source": "# Add the constant to array\n\nu + 1"
        },
        {
            "cell_type": "markdown",
            "metadata": {},
            "source": " The process is summarised in the following animation:\n"
        },
        {
            "cell_type": "markdown",
            "metadata": {},
            "source": "<img src=\"https://s3-api.us-geo.objectstorage.softlayer.net/cf-courses-data/CognitiveClass/PY0101EN/Chapter%205/Images/NumOneAdd.gif\" width=\"500\" />\n"
        },
        {
            "cell_type": "markdown",
            "metadata": {},
            "source": "<hr>\n"
        },
        {
            "cell_type": "markdown",
            "metadata": {},
            "source": "<h2 id=\"math\">Mathematical Functions</h2>\n"
        },
        {
            "cell_type": "markdown",
            "metadata": {},
            "source": " We can access the value of <code>pi</code> in numpy as follows :\n"
        },
        {
            "cell_type": "code",
            "execution_count": null,
            "metadata": {},
            "outputs": [],
            "source": "# The value of pi\n\nnp.pi"
        },
        {
            "cell_type": "markdown",
            "metadata": {},
            "source": " We can create the following numpy array in Radians:\n"
        },
        {
            "cell_type": "code",
            "execution_count": null,
            "metadata": {},
            "outputs": [],
            "source": "# Create the numpy array in radians\n\nx = np.array([0, np.pi/2 , np.pi])"
        },
        {
            "cell_type": "markdown",
            "metadata": {},
            "source": "We can apply the function <code>sin</code> to the array <code>x</code> and assign the values to the array <code>y</code>; this applies the sine function to each element in the array:  \n"
        },
        {
            "cell_type": "code",
            "execution_count": null,
            "metadata": {},
            "outputs": [],
            "source": "# Calculate the sin of each elements\n\ny = np.sin(x)\ny"
        },
        {
            "cell_type": "markdown",
            "metadata": {},
            "source": "<hr>\n"
        },
        {
            "cell_type": "markdown",
            "metadata": {},
            "source": "<h2 id=\"lin\">Linspace</h2>\n"
        },
        {
            "cell_type": "markdown",
            "metadata": {},
            "source": " A useful function for plotting mathematical functions is <code>linspace</code>.   Linspace returns evenly spaced numbers over a specified interval. We specify the starting point of the sequence and the ending point of the sequence. The parameter \"num\" indicates the Number of samples to generate, in this case 5:\n"
        },
        {
            "cell_type": "code",
            "execution_count": null,
            "metadata": {},
            "outputs": [],
            "source": "# Makeup a numpy array within [-2, 2] and 5 elements\n\nnp.linspace(-2, 2, num=5)"
        },
        {
            "cell_type": "markdown",
            "metadata": {},
            "source": "If we change the parameter <code>num</code> to 9, we get 9 evenly spaced numbers over the interval from -2 to 2: \n"
        },
        {
            "cell_type": "code",
            "execution_count": null,
            "metadata": {},
            "outputs": [],
            "source": "# Makeup a numpy array within [-2, 2] and 9 elements\n\nnp.linspace(-2, 2, num=9)"
        },
        {
            "cell_type": "markdown",
            "metadata": {},
            "source": "We can use the function <code>linspace</code> to generate 100 evenly spaced samples from the interval 0 to 2\u03c0: \n"
        },
        {
            "cell_type": "code",
            "execution_count": null,
            "metadata": {},
            "outputs": [],
            "source": "# Makeup a numpy array within [0, 2\u03c0] and 100 elements \n\nx = np.linspace(0, 2*np.pi, num=100)"
        },
        {
            "cell_type": "markdown",
            "metadata": {},
            "source": "We can apply the sine function to each element in the array <code>x</code> and assign it to the array <code>y</code>: \n"
        },
        {
            "cell_type": "code",
            "execution_count": null,
            "metadata": {
                "collapsed": true
            },
            "outputs": [],
            "source": "# Calculate the sine of x list\n\ny = np.sin(x)"
        },
        {
            "cell_type": "code",
            "execution_count": null,
            "metadata": {},
            "outputs": [],
            "source": "# Plot the result\n\nplt.plot(x, y)"
        },
        {
            "cell_type": "markdown",
            "metadata": {},
            "source": "<hr>\n"
        },
        {
            "cell_type": "markdown",
            "metadata": {},
            "source": "<h2 id=\"quiz\">Quiz on 1D Numpy Array</h2>\n"
        },
        {
            "cell_type": "markdown",
            "metadata": {},
            "source": "Implement the following vector subtraction in numpy: u-v\n"
        },
        {
            "cell_type": "code",
            "execution_count": 66,
            "metadata": {},
            "outputs": [
                {
                    "data": {
                        "text/plain": "array([ 1, -1])"
                    },
                    "execution_count": 66,
                    "metadata": {},
                    "output_type": "execute_result"
                }
            ],
            "source": "# Write your code below and press Shift+Enter to execute\n\nu = np.array([1, 0])\nv = np.array([0, 1])\nz = u-v\nz"
        },
        {
            "cell_type": "markdown",
            "metadata": {},
            "source": "Double-click **here** for the solution.\n\n<!-- Your answer is below:\nu - v\n-->\n"
        },
        {
            "cell_type": "markdown",
            "metadata": {},
            "source": "<hr>\n"
        },
        {
            "cell_type": "markdown",
            "metadata": {},
            "source": "Multiply the numpy array z with -2:\n"
        },
        {
            "cell_type": "code",
            "execution_count": 67,
            "metadata": {},
            "outputs": [
                {
                    "data": {
                        "text/plain": "array([-4, -8])"
                    },
                    "execution_count": 67,
                    "metadata": {},
                    "output_type": "execute_result"
                }
            ],
            "source": "# Write your code below and press Shift+Enter to execute\n\nz = np.array([2, 4])\nw =-2*z\nw"
        },
        {
            "cell_type": "markdown",
            "metadata": {},
            "source": "Double-click **here** for the solution.\n\n<!-- Your answer is below:\n-2 * z\n-->\n"
        },
        {
            "cell_type": "markdown",
            "metadata": {},
            "source": "<hr>\n"
        },
        {
            "cell_type": "markdown",
            "metadata": {},
            "source": "Consider the list <code>[1, 2, 3, 4, 5]</code> and <code>[1, 0, 1, 0, 1]</code>, and cast both lists to a numpy array then multiply them together:\n"
        },
        {
            "cell_type": "code",
            "execution_count": 68,
            "metadata": {},
            "outputs": [
                {
                    "data": {
                        "text/plain": "array([1, 0, 3, 0, 5])"
                    },
                    "execution_count": 68,
                    "metadata": {},
                    "output_type": "execute_result"
                }
            ],
            "source": "# Write your code below and press Shift+Enter to execute\na = np.array([1, 2, 3, 4, 5])\nb = np.array([1, 0, 1, 0, 1])\nc= a*b\nc"
        },
        {
            "cell_type": "markdown",
            "metadata": {},
            "source": "Double-click **here** for the solution.\n\n<!-- Your answer is below:\na = np.array([1, 2, 3, 4, 5])\nb = np.array([1, 0, 1, 0, 1])\na * b\n-->\n"
        },
        {
            "cell_type": "markdown",
            "metadata": {},
            "source": "<hr>\n"
        },
        {
            "cell_type": "markdown",
            "metadata": {},
            "source": "Convert the list <code>[-1, 1]</code> and <code>[1, 1]</code> to numpy arrays <code>a</code> and <code>b</code>.  Then, plot the arrays as vectors using the fuction <code>Plotvec2</code> and find the dot product:\n"
        },
        {
            "cell_type": "code",
            "execution_count": null,
            "metadata": {},
            "outputs": [],
            "source": "# Write your code below and press Shift+Enter to execute"
        },
        {
            "cell_type": "markdown",
            "metadata": {},
            "source": "Double-click **here** for the solution.\n\n<!-- Your answer is below:\na = np.array([-1, 1])\nb = np.array([1, 1])\nPlotvec2(a, b)\nprint(\"The dot product is\", np.dot(a,b))\n-->\n"
        },
        {
            "cell_type": "markdown",
            "metadata": {},
            "source": "<hr>\n"
        },
        {
            "cell_type": "markdown",
            "metadata": {},
            "source": "Convert the list <code>[1, 0]</code> and <code>[0, 1]</code> to numpy arrays <code>a</code> and <code>b</code>. Then, plot the arrays as vectors using the function <code>Plotvec2</code> and find the dot product:\n"
        },
        {
            "cell_type": "code",
            "execution_count": null,
            "metadata": {},
            "outputs": [],
            "source": "# Write your code below and press Shift+Enter to execute"
        },
        {
            "cell_type": "markdown",
            "metadata": {},
            "source": "Double-click **here** for the solution.\n\n<!-- \na = np.array([1, 0])\nb = np.array([0, 1])\nPlotvec2(a, b)\nprint(\"The dot product is\", np.dot(a, b))\n -->\n"
        },
        {
            "cell_type": "markdown",
            "metadata": {},
            "source": "<hr>\n"
        },
        {
            "cell_type": "markdown",
            "metadata": {},
            "source": "Convert the list <code>[1, 1]</code> and <code>[0, 1]</code> to numpy arrays <code>a</code> and <code>b</code>. Then plot the arrays as vectors using the fuction <code>Plotvec2</code> and find the dot product:\n"
        },
        {
            "cell_type": "code",
            "execution_count": 76,
            "metadata": {},
            "outputs": [
                {
                    "name": "stdout",
                    "output_type": "stream",
                    "text": "Dot Product: 1\nDot Product: 1\n"
                },
                {
                    "data": {
                        "image/png": "[encoded data removed]",
                        "text/plain": "<Figure size 432x288 with 1 Axes>"
                    },
                    "metadata": {
                        "needs_background": "light"
                    },
                    "output_type": "display_data"
                }
            ],
            "source": "# Write your code below and press Shift+Enter to execute\na =np.array([1,1])\nb =np.array([0,1])\nPlotvec2(a,b)\nprint(\"Dot Product:\", np.dot(a,b))\nprint(\"Dot Product:\", np.dot(b,a))"
        },
        {
            "cell_type": "markdown",
            "metadata": {},
            "source": "Double-click **here** for the solution.\n\n<!-- \na = np.array([1, 1])\nb = np.array([0, 1])\nPlotvec2(a, b)\nprint(\"The dot product is\", np.dot(a, b))\nprint(\"The dot product is\", np.dot(a, b))\n -->\n"
        },
        {
            "cell_type": "markdown",
            "metadata": {},
            "source": "<hr>\n"
        },
        {
            "cell_type": "markdown",
            "metadata": {},
            "source": "Why are the results of the dot product for <code>[-1, 1]</code> and <code>[1, 1]</code> and the dot product for <code>[1, 0]</code> and <code>[0, 1]</code> zero, but not zero for the dot product for <code>[1, 1]</code> and <code>[0, 1]</code>? <p><i>Hint: Study the corresponding figures, pay attention to the direction the arrows are pointing to.</i></p>\n"
        },
        {
            "cell_type": "code",
            "execution_count": null,
            "metadata": {},
            "outputs": [],
            "source": "# Write your code below and press Shift+Enter to execute"
        },
        {
            "cell_type": "markdown",
            "metadata": {},
            "source": "Double-click **here** for the solution.\n\n<!-- \nThe vectors used for question 4 and 5 are perpendicular. As a result, the dot product is zero. \n-->\n"
        },
        {
            "cell_type": "markdown",
            "metadata": {},
            "source": "<hr>\n<h2>The last exercise!</h2>\n<p>Congratulations, you have completed your first lesson and hands-on lab in Python. However, there is one more thing you need to do. The Data Science community encourages sharing work. The best way to share and showcase your work is to share it on GitHub. By sharing your notebook on GitHub you are not only building your reputation with fellow data scientists, but you can also show it off when applying for a job. Even though this was your first piece of work, it is never too early to start building good habits. So, please read and follow <a href=\"https://cognitiveclass.ai/blog/data-scientists-stand-out-by-sharing-your-notebooks/\" target=\"_blank\">this article</a> to learn how to share your work.\n<hr>\n"
        },
        {
            "cell_type": "markdown",
            "metadata": {},
            "source": "## Author\n\n<a href=\"https://www.linkedin.com/in/joseph-s-50398b136/\" target=\"_blank\">Joseph Santarcangelo</a>\n\n## Other contributors\n\n<a href=\"www.linkedin.com/in/jiahui-mavis-zhou-a4537814a\">Mavis Zhou</a>\n\n## Change Log\n\n| Date (YYYY-MM-DD) | Version | Changed By | Change Description                 |\n| ----------------- | ------- | ---------- | ---------------------------------- |\n| 2020-08-26        | 2.0     | Lavanya    | Moved lab to course repo in GitLab |\n|                   |         |            |                                    |\n|                   |         |            |                                    |\n\n<hr/>\n\n## <h3 align=\"center\"> \u00a9 IBM Corporation 2020. All rights reserved. <h3/>\n"
        }
    ],
    "metadata": {
        "kernelspec": {
            "display_name": "Python 3.7",
            "language": "python",
            "name": "python3"
        },
        "language_info": {
            "codemirror_mode": {
                "name": "ipython",
                "version": 3
            },
            "file_extension": ".py",
            "mimetype": "text/x-python",
            "name": "python",
            "nbconvert_exporter": "python",
            "pygments_lexer": "ipython3",
            "version": "3.7.9"
        }
    },
    "nbformat": 4,
    "nbformat_minor": 2
}